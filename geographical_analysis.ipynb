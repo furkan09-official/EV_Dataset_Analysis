{
 "cells": [
  {
   "cell_type": "code",
   "execution_count": 1,
   "metadata": {},
   "outputs": [],
   "source": [
    "import numpy as np\n",
    "import pandas as pd\n",
    "import matplotlib.pyplot as plt\n"
   ]
  },
  {
   "cell_type": "code",
   "execution_count": 3,
   "metadata": {},
   "outputs": [
    {
     "data": {
      "text/html": [
       "<div>\n",
       "<style scoped>\n",
       "    .dataframe tbody tr th:only-of-type {\n",
       "        vertical-align: middle;\n",
       "    }\n",
       "\n",
       "    .dataframe tbody tr th {\n",
       "        vertical-align: top;\n",
       "    }\n",
       "\n",
       "    .dataframe thead th {\n",
       "        text-align: right;\n",
       "    }\n",
       "</style>\n",
       "<table border=\"1\" class=\"dataframe\">\n",
       "  <thead>\n",
       "    <tr style=\"text-align: right;\">\n",
       "      <th></th>\n",
       "      <th>Year</th>\n",
       "      <th>Month_Name</th>\n",
       "      <th>Date</th>\n",
       "      <th>State</th>\n",
       "      <th>Vehicle_Class</th>\n",
       "      <th>Vehicle_Category</th>\n",
       "      <th>Vehicle_Type</th>\n",
       "      <th>EV_Sales_Quantity</th>\n",
       "    </tr>\n",
       "  </thead>\n",
       "  <tbody>\n",
       "    <tr>\n",
       "      <th>0</th>\n",
       "      <td>2014.0</td>\n",
       "      <td>jan</td>\n",
       "      <td>1/1/2014</td>\n",
       "      <td>Andhra Pradesh</td>\n",
       "      <td>ADAPTED VEHICLE</td>\n",
       "      <td>Others</td>\n",
       "      <td>Others</td>\n",
       "      <td>0.0</td>\n",
       "    </tr>\n",
       "    <tr>\n",
       "      <th>1</th>\n",
       "      <td>2014.0</td>\n",
       "      <td>jan</td>\n",
       "      <td>1/1/2014</td>\n",
       "      <td>Andhra Pradesh</td>\n",
       "      <td>AGRICULTURAL TRACTOR</td>\n",
       "      <td>Others</td>\n",
       "      <td>Others</td>\n",
       "      <td>0.0</td>\n",
       "    </tr>\n",
       "    <tr>\n",
       "      <th>2</th>\n",
       "      <td>2014.0</td>\n",
       "      <td>jan</td>\n",
       "      <td>1/1/2014</td>\n",
       "      <td>Andhra Pradesh</td>\n",
       "      <td>AMBULANCE</td>\n",
       "      <td>Others</td>\n",
       "      <td>Others</td>\n",
       "      <td>0.0</td>\n",
       "    </tr>\n",
       "    <tr>\n",
       "      <th>3</th>\n",
       "      <td>2014.0</td>\n",
       "      <td>jan</td>\n",
       "      <td>1/1/2014</td>\n",
       "      <td>Andhra Pradesh</td>\n",
       "      <td>ARTICULATED VEHICLE</td>\n",
       "      <td>Others</td>\n",
       "      <td>Others</td>\n",
       "      <td>0.0</td>\n",
       "    </tr>\n",
       "    <tr>\n",
       "      <th>4</th>\n",
       "      <td>2014.0</td>\n",
       "      <td>jan</td>\n",
       "      <td>1/1/2014</td>\n",
       "      <td>Andhra Pradesh</td>\n",
       "      <td>BUS</td>\n",
       "      <td>Bus</td>\n",
       "      <td>Bus</td>\n",
       "      <td>0.0</td>\n",
       "    </tr>\n",
       "  </tbody>\n",
       "</table>\n",
       "</div>"
      ],
      "text/plain": [
       "     Year Month_Name      Date           State         Vehicle_Class  \\\n",
       "0  2014.0        jan  1/1/2014  Andhra Pradesh       ADAPTED VEHICLE   \n",
       "1  2014.0        jan  1/1/2014  Andhra Pradesh  AGRICULTURAL TRACTOR   \n",
       "2  2014.0        jan  1/1/2014  Andhra Pradesh             AMBULANCE   \n",
       "3  2014.0        jan  1/1/2014  Andhra Pradesh   ARTICULATED VEHICLE   \n",
       "4  2014.0        jan  1/1/2014  Andhra Pradesh                   BUS   \n",
       "\n",
       "  Vehicle_Category Vehicle_Type  EV_Sales_Quantity  \n",
       "0           Others       Others                0.0  \n",
       "1           Others       Others                0.0  \n",
       "2           Others       Others                0.0  \n",
       "3           Others       Others                0.0  \n",
       "4              Bus          Bus                0.0  "
      ]
     },
     "execution_count": 3,
     "metadata": {},
     "output_type": "execute_result"
    }
   ],
   "source": [
    "df = pd.read_csv('EV_Dataset.csv')\n",
    "df.head()"
   ]
  }
 ],
 "metadata": {
  "kernelspec": {
   "display_name": "Python 3",
   "language": "python",
   "name": "python3"
  },
  "language_info": {
   "codemirror_mode": {
    "name": "ipython",
    "version": 3
   },
   "file_extension": ".py",
   "mimetype": "text/x-python",
   "name": "python",
   "nbconvert_exporter": "python",
   "pygments_lexer": "ipython3",
   "version": "3.12.4"
  }
 },
 "nbformat": 4,
 "nbformat_minor": 2
}
